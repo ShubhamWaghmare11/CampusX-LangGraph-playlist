{
 "cells": [
  {
   "cell_type": "code",
   "execution_count": 2,
   "id": "155f312c",
   "metadata": {},
   "outputs": [],
   "source": [
    "from langgraph.graph import StateGraph, START, END\n",
    "from typing import TypedDict, Literal\n",
    "from langchain_groq import ChatGroq\n",
    "from pydantic import BaseModel, Field\n",
    "from dotenv import load_dotenv"
   ]
  },
  {
   "cell_type": "code",
   "execution_count": 3,
   "id": "7c9a6bd9",
   "metadata": {},
   "outputs": [
    {
     "data": {
      "text/plain": [
       "True"
      ]
     },
     "execution_count": 3,
     "metadata": {},
     "output_type": "execute_result"
    }
   ],
   "source": [
    "load_dotenv()"
   ]
  },
  {
   "cell_type": "code",
   "execution_count": 4,
   "id": "a93c40e3",
   "metadata": {},
   "outputs": [],
   "source": [
    "model = ChatGroq(model=\"Gemma2-9b-It\")"
   ]
  },
  {
   "cell_type": "code",
   "execution_count": 5,
   "id": "a5997783",
   "metadata": {},
   "outputs": [
    {
     "data": {
      "text/plain": [
       "AIMessage(content=\"Please provide me with the test you'd like me to take! \\n\\nFor example, do you want me to:\\n\\n* **Answer a question?**\\n* **Summarize a piece of text?**\\n* **Translate something?**\\n* **Write a story or poem?**\\n* **Solve a problem?**\\n\\n\\nLet me know what you have in mind! 😊  \\n\", additional_kwargs={}, response_metadata={'token_usage': {'completion_tokens': 84, 'prompt_tokens': 10, 'total_tokens': 94, 'completion_time': 0.152727273, 'prompt_time': 0.001174599, 'queue_time': 0.253671951, 'total_time': 0.153901872}, 'model_name': 'Gemma2-9b-It', 'system_fingerprint': 'fp_10c08bf97d', 'service_tier': 'on_demand', 'finish_reason': 'stop', 'logprobs': None}, id='run--d5ed9537-3e63-4000-b665-b4b2060c9ca2-0', usage_metadata={'input_tokens': 10, 'output_tokens': 84, 'total_tokens': 94})"
      ]
     },
     "execution_count": 5,
     "metadata": {},
     "output_type": "execute_result"
    }
   ],
   "source": [
    "model.invoke(\"TEST\")"
   ]
  },
  {
   "cell_type": "code",
   "execution_count": 6,
   "id": "1d940f1b",
   "metadata": {},
   "outputs": [],
   "source": [
    "class SentimentSchema(BaseModel):\n",
    "    sentiment: Literal[\"positive\",\"negative\"] = Field(description=\"sentiment of the review\")\n",
    "\n",
    "\n",
    "class DiagnosisSchema(BaseModel):\n",
    "    issue_type: Literal['UX',\"Performance\",\"Bug\",\"Support\",\"Other\"] = Field(description=\"The category of issue mentioned in the review\")\n",
    "    tone: Literal['angry',\"frustrated\",\"disappointed\",\"calm\"] = Field(description=\"the emotional tone expressed in the review\")\n",
    "    urgency: Literal['low',\"medium\",\"high\"] = Field(description=\"How urgent or critical the issue appears to be\")\n"
   ]
  },
  {
   "cell_type": "code",
   "execution_count": 7,
   "id": "1a7ef691",
   "metadata": {},
   "outputs": [],
   "source": [
    "structured_model = model.with_structured_output(SentimentSchema)\n",
    "diagnosis_model = model.with_structured_output(DiagnosisSchema)"
   ]
  },
  {
   "cell_type": "code",
   "execution_count": 8,
   "id": "e57d81e5",
   "metadata": {},
   "outputs": [
    {
     "data": {
      "text/plain": [
       "SentimentSchema(sentiment='negative')"
      ]
     },
     "execution_count": 8,
     "metadata": {},
     "output_type": "execute_result"
    }
   ],
   "source": [
    "prompt = f\"What is the sentiment of the following review - The software is too bad\"\n",
    "\n",
    "structured_model.invoke(prompt)"
   ]
  },
  {
   "cell_type": "code",
   "execution_count": 9,
   "id": "95b1c57b",
   "metadata": {},
   "outputs": [],
   "source": [
    "class ReviewState(TypedDict):\n",
    "    review: str\n",
    "    sentiment: Literal['positive','negative']\n",
    "    diagnosis: dict\n",
    "    response: str\n"
   ]
  },
  {
   "cell_type": "code",
   "execution_count": 25,
   "id": "32a783bc",
   "metadata": {},
   "outputs": [],
   "source": [
    "def find_sentiment(state: ReviewState):\n",
    "    \n",
    "    prompt = f\"For the following review, find out the sentiment \\n {state['review']}\"\n",
    "    sentiment = structured_model.invoke(prompt).sentiment\n",
    "    \n",
    "    return {'sentiment':sentiment}\n",
    "\n",
    "\n",
    "\n",
    "def check_sentiment(state: ReviewState) -> Literal[\"positive_response\",\"run_diagnosis\"]:\n",
    "\n",
    "    if state['sentiment'] == \"positive\":\n",
    "        return \"positive_response\"\n",
    "    else:\n",
    "        return \"run_diagnosis\"\n",
    "\n",
    "\n",
    "def positive_response(state: ReviewState):\n",
    "\n",
    "    prompt = f\"\"\"Write a warm thank-you message in response to this review:\n",
    "        \\n\\n\\\"{state['review']}\\\"\\n\n",
    "    Also, kindly ask the user to leave feedback on our website.\"\"\"\n",
    "    \n",
    "    response = model.invoke(prompt).content\n",
    "\n",
    "    return {'response': response}\n",
    "\n",
    "\n",
    "def run_diagnosis(state: ReviewState):\n",
    "    prompt = f\"Diagnose this negative review:\\n\\n{state['review']}\\n Return the issue type, tone and urgency\"\n",
    "    response =diagnosis_model.invoke(prompt)\n",
    "\n",
    "    return {'diagnosis':response.model_dump()}\n",
    "\n",
    "\n",
    "def negative_response(state: ReviewState):\n",
    "\n",
    "    diagnosis = state['diagnosis']\n",
    "\n",
    "    prompt = f\"\"\"You are a support assistant.\n",
    "The user had a '{diagnosis['issue_type']}' issue, sounded '{diagnosis['tone']}', and marked urgency as '{diagnosis['urgency']}'.\n",
    "Write an empathetic, helpful resolution message.\n",
    "\"\"\"\n",
    "    response = model.invoke(prompt).content\n",
    "\n",
    "    return {'response': response}\n",
    "    "
   ]
  },
  {
   "cell_type": "code",
   "execution_count": 26,
   "id": "cf076b3b",
   "metadata": {},
   "outputs": [],
   "source": [
    "graph = StateGraph(ReviewState)\n",
    "\n",
    "graph.add_node('find_sentiment', find_sentiment)\n",
    "graph.add_node('positive_response', positive_response)\n",
    "graph.add_node('run_diagnosis', run_diagnosis)\n",
    "graph.add_node('negative_response', negative_response)\n",
    "\n",
    "graph.add_edge(START, 'find_sentiment')\n",
    "\n",
    "graph.add_conditional_edges('find_sentiment', check_sentiment)\n",
    "\n",
    "graph.add_edge('positive_response', END)\n",
    "\n",
    "graph.add_edge('run_diagnosis', 'negative_response')\n",
    "graph.add_edge('negative_response', END)\n",
    "\n",
    "workflow = graph.compile()\n"
   ]
  },
  {
   "cell_type": "code",
   "execution_count": 29,
   "id": "6df3e4f9",
   "metadata": {},
   "outputs": [
    {
     "data": {
      "text/plain": [
       "{'review': 'This system is trash, nothing works properly and lags alot. Dont download it',\n",
       " 'sentiment': 'negative',\n",
       " 'diagnosis': {'issue_type': 'Bug', 'tone': 'angry', 'urgency': 'high'},\n",
       " 'response': \"Hi [User Name],\\n\\nI understand you're frustrated with the bug you're experiencing and I sincerely apologize for the inconvenience it's causing.  I see you've marked this as high urgency, and I want to assure you that we're taking it seriously.\\n\\nCould you please provide me with some more details about the bug?  \\n\\n* What exactly is happening? \\n* When did you first notice the issue?\\n* What steps have you already taken to try and resolve it?\\n\\nThe more information you can give me, the faster I can help get this sorted out for you.  \\n\\nThanks for your patience and understanding. I'm here to help! \\n\\n\\nBest regards,\\n\\n[Your Name] \\nSupport Assistant \\n\\n\"}"
      ]
     },
     "execution_count": 29,
     "metadata": {},
     "output_type": "execute_result"
    }
   ],
   "source": [
    "initial_state = {\"review\":\"This system is trash, nothing works properly and lags alot. Dont download it\"}\n",
    "\n",
    "final_state = workflow.invoke(initial_state)\n",
    "final_state"
   ]
  },
  {
   "cell_type": "code",
   "execution_count": 31,
   "id": "5cbb15e9",
   "metadata": {},
   "outputs": [
    {
     "name": "stdout",
     "output_type": "stream",
     "text": [
      "Hi [User Name],\n",
      "\n",
      "I understand you're frustrated with the bug you're experiencing and I sincerely apologize for the inconvenience it's causing.  I see you've marked this as high urgency, and I want to assure you that we're taking it seriously.\n",
      "\n",
      "Could you please provide me with some more details about the bug?  \n",
      "\n",
      "* What exactly is happening? \n",
      "* When did you first notice the issue?\n",
      "* What steps have you already taken to try and resolve it?\n",
      "\n",
      "The more information you can give me, the faster I can help get this sorted out for you.  \n",
      "\n",
      "Thanks for your patience and understanding. I'm here to help! \n",
      "\n",
      "\n",
      "Best regards,\n",
      "\n",
      "[Your Name] \n",
      "Support Assistant \n",
      "\n",
      "\n"
     ]
    }
   ],
   "source": [
    "print(final_state['response'])"
   ]
  },
  {
   "cell_type": "code",
   "execution_count": null,
   "id": "6b905c93",
   "metadata": {},
   "outputs": [],
   "source": []
  },
  {
   "cell_type": "code",
   "execution_count": null,
   "id": "84ef03b3",
   "metadata": {},
   "outputs": [],
   "source": []
  },
  {
   "cell_type": "code",
   "execution_count": null,
   "id": "007ed790",
   "metadata": {},
   "outputs": [],
   "source": []
  },
  {
   "cell_type": "code",
   "execution_count": null,
   "id": "ab94c845",
   "metadata": {},
   "outputs": [],
   "source": []
  },
  {
   "cell_type": "code",
   "execution_count": null,
   "id": "20af0c5b",
   "metadata": {},
   "outputs": [],
   "source": []
  },
  {
   "cell_type": "code",
   "execution_count": null,
   "id": "14352404",
   "metadata": {},
   "outputs": [],
   "source": []
  }
 ],
 "metadata": {
  "kernelspec": {
   "display_name": "myenv",
   "language": "python",
   "name": "python3"
  },
  "language_info": {
   "codemirror_mode": {
    "name": "ipython",
    "version": 3
   },
   "file_extension": ".py",
   "mimetype": "text/x-python",
   "name": "python",
   "nbconvert_exporter": "python",
   "pygments_lexer": "ipython3",
   "version": "3.10.0"
  }
 },
 "nbformat": 4,
 "nbformat_minor": 5
}
