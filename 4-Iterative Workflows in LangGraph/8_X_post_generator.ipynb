{
 "cells": [
  {
   "cell_type": "code",
   "execution_count": null,
   "id": "ca48be68",
   "metadata": {},
   "outputs": [],
   "source": [
    "from langgraph.graph import StateGraph, START, END\n",
    "from typing import TypedDict, Literal, Annotated\n",
    "from langchain_groq import ChatGroq\n",
    "from langchain_core.messages import SystemMessage, HumanMessage\n",
    "from dotenv import load_dotenv\n",
    "\n",
    "load_dotenv()"
   ]
  },
  {
   "cell_type": "code",
   "execution_count": null,
   "id": "f6798ce0",
   "metadata": {},
   "outputs": [],
   "source": [
    "generator_llm = ChatGroq(model=\"llama3-70b-8192\")\n",
    "evaluator_llm = ChatGroq(model=\"Gemma2-9b-It\")\n",
    "optimizer_llm = ChatGroq(model=\"llama3-70b-8192\")"
   ]
  },
  {
   "cell_type": "code",
   "execution_count": 6,
   "id": "33ca3c06",
   "metadata": {},
   "outputs": [
    {
     "data": {
      "text/plain": [
       "AIMessage(content=\"It looks like you're trying to test something! Would you like to test a specific function or scenario? I'm here to help!\", additional_kwargs={}, response_metadata={'token_usage': {'completion_tokens': 28, 'prompt_tokens': 11, 'total_tokens': 39, 'completion_time': 0.10956986, 'prompt_time': 0.017436432, 'queue_time': 0.616517692, 'total_time': 0.127006292}, 'model_name': 'llama3-8b-8192', 'system_fingerprint': 'fp_5b339000ab', 'service_tier': 'on_demand', 'finish_reason': 'stop', 'logprobs': None}, id='run--72316a2c-0294-4624-a8dc-7fe437c39640-0', usage_metadata={'input_tokens': 11, 'output_tokens': 28, 'total_tokens': 39})"
      ]
     },
     "execution_count": 6,
     "metadata": {},
     "output_type": "execute_result"
    }
   ],
   "source": [
    "optimizer_llm.invoke(\"TEST\")"
   ]
  },
  {
   "cell_type": "code",
   "execution_count": null,
   "id": "9c1b90e5",
   "metadata": {},
   "outputs": [],
   "source": []
  },
  {
   "cell_type": "code",
   "execution_count": null,
   "id": "465549e9",
   "metadata": {},
   "outputs": [],
   "source": []
  }
 ],
 "metadata": {
  "kernelspec": {
   "display_name": "myenv",
   "language": "python",
   "name": "python3"
  },
  "language_info": {
   "codemirror_mode": {
    "name": "ipython",
    "version": 3
   },
   "file_extension": ".py",
   "mimetype": "text/x-python",
   "name": "python",
   "nbconvert_exporter": "python",
   "pygments_lexer": "ipython3",
   "version": "3.10.0"
  }
 },
 "nbformat": 4,
 "nbformat_minor": 5
}
