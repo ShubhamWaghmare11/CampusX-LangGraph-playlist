{
 "cells": [
  {
   "cell_type": "code",
   "execution_count": 1,
   "id": "ed6e82ff",
   "metadata": {},
   "outputs": [],
   "source": [
    "from langgraph.graph import StateGraph\n",
    "from typing import TypedDict"
   ]
  },
  {
   "cell_type": "code",
   "execution_count": 2,
   "id": "efad73e8",
   "metadata": {},
   "outputs": [],
   "source": [
    "class BatsmanState(TypedDict):\n",
    "    runs: int\n",
    "    balls: int\n",
    "    fours: int\n",
    "    sixes: int\n",
    "\n",
    "    sr: float\n",
    "    bpb: float\n",
    "    boundary_percent: float"
   ]
  },
  {
   "cell_type": "code",
   "execution_count": null,
   "id": "31e27a43",
   "metadata": {},
   "outputs": [],
   "source": [
    "def calculate_sr(state: BatsmanState) -> BatsmanState:\n",
    "    runs = state['runs']\n",
    "    balls = state['balls']\n",
    "\n",
    "    state['sr'] = runs/balls * 100\n",
    "\n",
    "    return state\n",
    "\n",
    "def calculate_bpb(state: BatsmanState) -> BatsmanState:\n",
    "    fours = state['fours']\n",
    "    sixes = state['sixes']\n",
    "    balls = state['balls']\n",
    "\n",
    "    state['bpb'] = balls/(fours+sixes)\n",
    "\n",
    "    return state\n",
    "\n",
    "def calculate_bp(state: BatsmanState) -> BatsmanState:      \n",
    "    fours = state['fours']\n",
    "    sixes = state['sixes']\n",
    "    runs = state['runs']\n",
    "\n",
    "    state['boundary_percent'] = ((fours*4)+(sixes*6))/runs\n",
    "\n",
    "    return state\n"
   ]
  },
  {
   "cell_type": "code",
   "execution_count": null,
   "id": "9265e664",
   "metadata": {},
   "outputs": [],
   "source": [
    "graph = StateGraph(BatsmanState)\n",
    "\n",
    "graph.add_node(\"calculate_sr\",calculate_sr)\n",
    "graph.add_node(\"calculate_bpb\",calculate_bpb)\n",
    "graph.add_node(\"calculate_bp\",calculate_bp)\n",
    "graph.add_node(\"summary\",summary)\n"
   ]
  },
  {
   "cell_type": "code",
   "execution_count": null,
   "id": "d0d1c095",
   "metadata": {},
   "outputs": [],
   "source": []
  }
 ],
 "metadata": {
  "kernelspec": {
   "display_name": "myenv",
   "language": "python",
   "name": "python3"
  },
  "language_info": {
   "codemirror_mode": {
    "name": "ipython",
    "version": 3
   },
   "file_extension": ".py",
   "mimetype": "text/x-python",
   "name": "python",
   "nbconvert_exporter": "python",
   "pygments_lexer": "ipython3",
   "version": "3.10.0"
  }
 },
 "nbformat": 4,
 "nbformat_minor": 5
}
