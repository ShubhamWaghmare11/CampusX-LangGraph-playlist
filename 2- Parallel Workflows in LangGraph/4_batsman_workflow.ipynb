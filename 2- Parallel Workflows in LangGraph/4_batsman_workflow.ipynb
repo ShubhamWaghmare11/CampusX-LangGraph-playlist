{
 "cells": [
  {
   "cell_type": "code",
   "execution_count": 8,
   "id": "ed6e82ff",
   "metadata": {},
   "outputs": [],
   "source": [
    "from langgraph.graph import StateGraph, START, END\n",
    "from typing import TypedDict"
   ]
  },
  {
   "cell_type": "code",
   "execution_count": 3,
   "id": "efad73e8",
   "metadata": {},
   "outputs": [],
   "source": [
    "class BatsmanState(TypedDict):\n",
    "    runs: int\n",
    "    balls: int\n",
    "    fours: int\n",
    "    sixes: int\n",
    "\n",
    "    sr: float\n",
    "    bpb: float\n",
    "    boundary_percent: float\n",
    "    summary: str"
   ]
  },
  {
   "cell_type": "code",
   "execution_count": 12,
   "id": "31e27a43",
   "metadata": {},
   "outputs": [],
   "source": [
    "def calculate_sr(state: BatsmanState) -> dict:\n",
    "    runs = state['runs']\n",
    "    balls = state['balls']\n",
    "\n",
    "    sr = runs/balls * 100\n",
    "\n",
    "    return {'sr': sr}\n",
    "\n",
    "def calculate_bpb(state: BatsmanState) -> dict:\n",
    "    fours = state['fours']\n",
    "    sixes = state['sixes']\n",
    "    balls = state['balls']\n",
    "\n",
    "    bpb =  balls/(fours+sixes)\n",
    "\n",
    "    return {'bpb':bpb}\n",
    "\n",
    "def calculate_bp(state: BatsmanState) -> dict:      \n",
    "    fours = state['fours']\n",
    "    sixes = state['sixes']\n",
    "    runs = state['runs']\n",
    "\n",
    "    boundary_percent = ((fours*4)+(sixes*6))/runs\n",
    "\n",
    "    return {\"boundary_percent\":boundary_percent}\n",
    "\n",
    "\n",
    "def summary(state: BatsmanState) -> BatsmanState:\n",
    "    summary = f\"\"\"\n",
    "    Strike Rate - {state['sr']} \\n\n",
    "    Balls per boundary - {state['bpb']}\\n\n",
    "    Boundary Percent - {state['boundary_percent']}\n",
    "    \"\"\"\n",
    "\n",
    "    state['summary'] = summary\n",
    "\n",
    "    return state"
   ]
  },
  {
   "cell_type": "code",
   "execution_count": 13,
   "id": "9265e664",
   "metadata": {},
   "outputs": [],
   "source": [
    "graph = StateGraph(BatsmanState)\n",
    "\n",
    "graph.add_node(\"calculate_sr\",calculate_sr)\n",
    "graph.add_node(\"calculate_bpb\",calculate_bpb)\n",
    "graph.add_node(\"calculate_bp\",calculate_bp)\n",
    "graph.add_node(\"summary\",summary)\n",
    "\n",
    "\n",
    "#edges\n",
    "\n",
    "graph.add_edge(START,\"calculate_sr\")\n",
    "graph.add_edge(START,\"calculate_bpb\")\n",
    "graph.add_edge(START,\"calculate_bp\")\n",
    "\n",
    "graph.add_edge(\"calculate_sr\",\"summary\")\n",
    "graph.add_edge(\"calculate_bpb\",\"summary\")\n",
    "graph.add_edge(\"calculate_bp\",\"summary\")\n",
    "\n",
    "graph.add_edge(\"summary\",END)\n",
    "\n",
    "\n",
    "workflow = graph.compile()\n",
    "\n"
   ]
  },
  {
   "cell_type": "code",
   "execution_count": 18,
   "id": "d0d1c095",
   "metadata": {},
   "outputs": [],
   "source": [
    "initial_state = {\"runs\":143,\"balls\":78,\"fours\":13,\"sixes\":10}\n",
    "\n",
    "final_state = workflow.invoke(initial_state)"
   ]
  },
  {
   "cell_type": "code",
   "execution_count": 19,
   "id": "bd113449",
   "metadata": {},
   "outputs": [
    {
     "name": "stdout",
     "output_type": "stream",
     "text": [
      "\n",
      "    Strike Rate - 183.33333333333331 \n",
      "\n",
      "    Balls per boundary - 3.391304347826087\n",
      "\n",
      "    Boundary Percent - 0.7832167832167832\n",
      "    \n"
     ]
    }
   ],
   "source": [
    "print(final_state['summary'])"
   ]
  },
  {
   "cell_type": "code",
   "execution_count": null,
   "id": "0c1f37d0",
   "metadata": {},
   "outputs": [],
   "source": []
  },
  {
   "cell_type": "code",
   "execution_count": null,
   "id": "7c1b233e",
   "metadata": {},
   "outputs": [],
   "source": []
  }
 ],
 "metadata": {
  "kernelspec": {
   "display_name": "myenv",
   "language": "python",
   "name": "python3"
  },
  "language_info": {
   "codemirror_mode": {
    "name": "ipython",
    "version": 3
   },
   "file_extension": ".py",
   "mimetype": "text/x-python",
   "name": "python",
   "nbconvert_exporter": "python",
   "pygments_lexer": "ipython3",
   "version": "3.10.0"
  }
 },
 "nbformat": 4,
 "nbformat_minor": 5
}
