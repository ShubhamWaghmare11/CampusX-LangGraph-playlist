{
 "cells": [
  {
   "cell_type": "code",
   "execution_count": 4,
   "id": "516ff1e3",
   "metadata": {},
   "outputs": [],
   "source": [
    "from langgraph.graph import StateGraph, START, END\n",
    "from langchain_groq import ChatGroq\n",
    "from typing import TypedDict\n",
    "from dotenv import load_dotenv\n",
    "import os"
   ]
  },
  {
   "cell_type": "code",
   "execution_count": 2,
   "id": "91d353f4",
   "metadata": {},
   "outputs": [
    {
     "data": {
      "text/plain": [
       "True"
      ]
     },
     "execution_count": 2,
     "metadata": {},
     "output_type": "execute_result"
    }
   ],
   "source": [
    "load_dotenv()"
   ]
  },
  {
   "cell_type": "code",
   "execution_count": 11,
   "id": "f969761f",
   "metadata": {},
   "outputs": [],
   "source": [
    "model = ChatGroq(api_key=os.getenv(\"GROQ_API_KEY\"),model=\"Gemma2-9b-It\")"
   ]
  },
  {
   "cell_type": "code",
   "execution_count": 13,
   "id": "f981478d",
   "metadata": {},
   "outputs": [],
   "source": [
    "# create a state\n",
    "\n",
    "class LLMState(TypedDict):\n",
    "\n",
    "    question: str\n",
    "    answer: str\n",
    "        "
   ]
  },
  {
   "cell_type": "code",
   "execution_count": 14,
   "id": "50183dc0",
   "metadata": {},
   "outputs": [],
   "source": [
    "def llm_qa(state: LLMState) -> LLMState:\n",
    "    \n",
    "    # extract the question from state\n",
    "    question = state['question']\n",
    "    # form a prompt\n",
    "    prompt = f\"Answer the following Question: \\n{question}\"\n",
    "\n",
    "    # ask that question to the llm\n",
    "    response = model.invoke(prompt).content\n",
    "\n",
    "    # update the answer in the state\n",
    "    state['answer'] = response\n",
    "\n",
    "    return state"
   ]
  },
  {
   "cell_type": "code",
   "execution_count": 19,
   "id": "124d0054",
   "metadata": {},
   "outputs": [],
   "source": [
    "# create our graph\n",
    "\n",
    "graph = StateGraph(LLMState)\n",
    "\n",
    "# add nodes\n",
    "graph.add_node(\"llm_qa\",llm_qa)\n",
    "\n",
    "# add edges\n",
    "graph.add_edge(START,\"llm_qa\")\n",
    "graph.add_edge(\"llm_qa\",END)\n",
    "\n",
    "# compiling the graph\n",
    "workflow = graph.compile()"
   ]
  },
  {
   "cell_type": "code",
   "execution_count": 20,
   "id": "09ccd591",
   "metadata": {},
   "outputs": [
    {
     "name": "stdout",
     "output_type": "stream",
     "text": [
      "{'question': 'What is Artificial Intelligence?', 'answer': \"Artificial intelligence (AI) is a broad field of computer science focused on creating machines capable of performing tasks that typically require human intelligence. \\n\\nHere's a breakdown:\\n\\n**Key characteristics of AI:**\\n\\n* **Learning:** AI systems can learn from data, identifying patterns and making predictions or decisions based on that learning.\\n\\n* **Reasoning:** AI can use logic and rules to draw conclusions and solve problems.\\n* **Problem-solving:** AI can be used to find solutions to complex problems, often by exploring multiple possibilities and evaluating their outcomes.\\n* **Perception:** Some AI systems can interpret sensory information, such as images, sound, and text.\\n* **Natural language understanding:** AI can be trained to understand and respond to human language.\\n\\n**Types of AI:**\\n\\n* **Narrow or Weak AI:** Designed to perform a specific task, like playing chess or recommending products. Most AI we see today falls into this category.\\n* **General or Strong AI:** Hypothetical AI with human-level intelligence, capable of understanding and performing any intellectual task a human can.\\n* **Super AI:**  Hypothetical AI that surpasses human intelligence in all aspects.\\n\\n**Applications of AI:**\\n\\nAI is used in a wide range of applications, including:\\n\\n* **Healthcare:** Diagnosing diseases, developing new treatments, and personalizing patient care.\\n* **Finance:** Detecting fraud, assessing credit risk, and automating trading.\\n* **Transportation:** Self-driving cars, traffic optimization, and predictive maintenance.\\n* **Retail:** Personalized recommendations, inventory management, and customer service chatbots.\\n* **Entertainment:** Creating realistic video game characters, generating music, and recommending movies.\\n\\n\\nAI is a rapidly evolving field with the potential to transform many aspects of our lives. While there are concerns about the ethical implications of AI, its benefits are also vast and continue to be explored.\\n\"}\n"
     ]
    }
   ],
   "source": [
    "initial_state={\"question\":\"What is Artificial Intelligence?\"}\n",
    "\n",
    "final_state = workflow.invoke(initial_state)\n",
    "\n",
    "print(final_state)"
   ]
  },
  {
   "cell_type": "code",
   "execution_count": null,
   "id": "a031b720",
   "metadata": {},
   "outputs": [],
   "source": []
  }
 ],
 "metadata": {
  "kernelspec": {
   "display_name": "myenv",
   "language": "python",
   "name": "python3"
  },
  "language_info": {
   "codemirror_mode": {
    "name": "ipython",
    "version": 3
   },
   "file_extension": ".py",
   "mimetype": "text/x-python",
   "name": "python",
   "nbconvert_exporter": "python",
   "pygments_lexer": "ipython3",
   "version": "3.10.0"
  }
 },
 "nbformat": 4,
 "nbformat_minor": 5
}
