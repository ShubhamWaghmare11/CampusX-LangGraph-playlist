{
 "cells": [
  {
   "cell_type": "code",
   "execution_count": 8,
   "id": "f07d88b7",
   "metadata": {},
   "outputs": [],
   "source": [
    "from langgraph.graph import StateGraph, START, END\n",
    "from langchain_groq import ChatGroq\n",
    "from typing import TypedDict\n",
    "from dotenv import load_dotenv"
   ]
  },
  {
   "cell_type": "code",
   "execution_count": 3,
   "id": "cf585541",
   "metadata": {},
   "outputs": [
    {
     "data": {
      "text/plain": [
       "True"
      ]
     },
     "execution_count": 3,
     "metadata": {},
     "output_type": "execute_result"
    }
   ],
   "source": [
    "load_dotenv()"
   ]
  },
  {
   "cell_type": "code",
   "execution_count": 4,
   "id": "dc896822",
   "metadata": {},
   "outputs": [],
   "source": [
    "model = ChatGroq(model=\"Gemma2-9b-It\")"
   ]
  },
  {
   "cell_type": "code",
   "execution_count": 5,
   "id": "f45ac7ab",
   "metadata": {},
   "outputs": [],
   "source": [
    "class BlogState(TypedDict):\n",
    "    title: str\n",
    "    outline: str\n",
    "    content: str\n",
    "    "
   ]
  },
  {
   "cell_type": "code",
   "execution_count": 7,
   "id": "9fd662e5",
   "metadata": {},
   "outputs": [],
   "source": [
    "def create_outline(state: BlogState) -> BlogState:\n",
    "\n",
    "    # fetch title\n",
    "    title = state['title']\n",
    "    \n",
    "    # call llm generate outline\n",
    "    prompt = f\"Generate a detailed outline for a blog on the topic - {title}\"\n",
    "    outline = model.invoke(prompt).content\n",
    "    \n",
    "    # update state\n",
    "    state['outline'] = outline\n",
    "\n",
    "    return state\n",
    "\n",
    "\n",
    "def create_blog(state: BlogState) -> BlogState:\n",
    "\n",
    "    # fetch title and outline\n",
    "    title = state['title']\n",
    "    outline = state['outline']\n",
    "    \n",
    "    # call llm generate blog\n",
    "    prompt = f\"Write a detailed blog on the title - {title} \\n\\n using the following outline:\\n {outline}\"\n",
    "    content = model.invoke(prompt).content\n",
    "    \n",
    "    # update state\n",
    "    state['content'] = content\n",
    "\n",
    "    return state"
   ]
  },
  {
   "cell_type": "code",
   "execution_count": 10,
   "id": "9de09723",
   "metadata": {},
   "outputs": [],
   "source": [
    "graph = StateGraph(BlogState)\n",
    "\n",
    "# nodes\n",
    "graph.add_node(\"create_outline\",create_outline)\n",
    "graph.add_node(\"create_blog\",create_blog)\n",
    "\n",
    "# edges\n",
    "graph.add_edge(START,'create_outline')\n",
    "graph.add_edge('create_outline','create_blog')\n",
    "graph.add_edge('create_blog',END)\n",
    "\n",
    "\n",
    "#compile\n",
    "\n",
    "workflow = graph.compile()"
   ]
  },
  {
   "cell_type": "code",
   "execution_count": 11,
   "id": "4598ca30",
   "metadata": {},
   "outputs": [
    {
     "name": "stdout",
     "output_type": "stream",
     "text": [
      "{'title': 'Rise of AI in healthcare', 'outline': \"##  Rise of AI in Healthcare: A Detailed Blog Outline\\n\\n**I. Introduction:**\\n\\n*   Hook: Start with a captivating statistic or anecdote about AI in healthcare's potential impact.\\n*   Define AI and its relevance to healthcare.\\n*   Briefly outline the benefits and challenges of AI in healthcare.\\n*   Thesis statement: AI is rapidly transforming healthcare, offering promising solutions while raising ethical considerations that need careful attention.\\n\\n**II. Current Applications of AI in Healthcare:**\\n\\n*   **Diagnostics:**\\n    *   Image Analysis: AI's role in detecting diseases like cancer, Alzheimer's, and diabetic retinopathy through medical imaging.\\n    *   Symptom Checkers: AI-powered chatbots and virtual assistants assisting with initial symptom assessments and triage.\\n    *   Predictive Analytics: AI algorithms identifying patients at risk for specific conditions based on medical history and data.\\n*   **Treatment:**\\n    *   Personalized Medicine: AI aiding in tailoring treatment plans based on individual patient characteristics and genetic profiles.\\n    *   Drug Discovery: AI accelerating the process of identifying and developing new drugs and therapies.\\n    *   Robotic Surgery: AI-assisted surgical robots improving precision and minimizing invasiveness.\\n*   **Administrative Processes:**\\n    *   Streamlining Patient Records: AI automating data entry, improving accuracy, and facilitating information sharing.\\n    *   Appointment Scheduling: AI optimizing appointment scheduling, reducing wait times, and improving patient convenience.\\n    *   Insurance Claims Processing: AI automating claims processing, reducing errors, and speeding up reimbursements.\\n\\n**III. Benefits of AI in Healthcare:**\\n\\n*   **Improved Accuracy and Efficiency:** AI algorithms can analyze vast amounts of data more accurately and efficiently than humans, leading to better diagnoses and treatment decisions.\\n*   **Early Disease Detection and Prevention:** AI can identify subtle patterns and anomalies in medical data, enabling early detection of diseases and potentially preventing serious health complications.\\n*   **Personalized and Targeted Treatment:** AI can tailor treatment plans to individual patients based on their unique characteristics, leading to more effective and personalized care.\\n*   **Reduced Costs and Increased Accessibility:** AI can automate tasks, streamline processes, and improve efficiency, ultimately leading to reduced healthcare costs and increased accessibility to care.\\n\\n**IV. Challenges and Ethical Considerations:**\\n\\n*   **Data Privacy and Security:** Ensuring the privacy and security of sensitive patient data is paramount.\\n*   **Bias and Fairness:** AI algorithms can inherit biases from the data they are trained on, potentially leading to disparities in healthcare access and outcomes.\\n*   * **Transparency and Explainability:** Understanding how AI algorithms make decisions is crucial for building trust and accountability.\\n*   **Job Displacement:** AI automation may lead to job displacement in certain healthcare roles.\\n\\n**V. Future of AI in Healthcare:**\\n\\n*   Explore emerging trends and advancements in AI for healthcare, such as:\\n    *   AI-powered drug development and personalized medicine.\\n    *   AI-assisted mental health care and chronic disease management.\\n    *   The role of AI in public health surveillance and outbreak prediction.\\n*   Discuss the potential impact of AI on the future of healthcare delivery.\\n\\n**VI. Conclusion:**\\n\\n*   Summarize the key points discussed in the blog post.\\n*   Reiterate the transformative potential of AI in healthcare while emphasizing the need for responsible development and implementation.\\n*   Offer a concluding thought or call to action for readers.\\n\\n\\n**Additional Tips:**\\n\\n*   Use clear and concise language, avoiding technical jargon where possible.\\n*   Support your claims with credible sources and data.\\n*   Include visuals such as graphs, charts, and images to enhance reader engagement.\\n*   Break up the text into smaller paragraphs and use headings and subheadings to improve readability.\\n*   Proofread carefully for any errors in grammar or spelling.\\n\\n\\n\\n\", 'content': \"## The Rise of AI in Healthcare: A Revolution in Care\\n\\nImagine a future where diseases are detected before symptoms even appear, where treatments are personalized to your unique genetic makeup, and where administrative tasks are handled effortlessly by intelligent machines. This isn't science fiction; it's the rapidly unfolding reality of artificial intelligence (AI) in healthcare. \\n\\nAI, the ability of computers to learn from data and perform tasks typically requiring human intelligence, is poised to revolutionize every aspect of healthcare delivery. From diagnostics to treatment, and even administrative processes, AI is offering promising solutions while simultaneously raising crucial ethical considerations.\\n\\n**AI in Action: Transforming Healthcare Today**\\n\\nAI is already making its mark across a spectrum of healthcare applications:\\n\\n* **Diagnostics:** AI algorithms are excelling at analyzing medical images, detecting subtle patterns indicative of diseases like cancer, Alzheimer's, and diabetic retinopathy. AI-powered symptom checkers are assisting patients with initial assessments and guiding them towards appropriate care.\\n\\n* **Treatment:**  AI is playing a pivotal role in personalized medicine by tailoring treatment plans to individual patient characteristics and genetic profiles. It's accelerating drug discovery by identifying promising candidates and simulating their effects. AI-assisted robotic surgery is enhancing precision and minimizing invasiveness, leading to faster recovery times and fewer complications.\\n\\n* **Administrative Processes:**  AI is streamlining patient records, automating data entry and improving accuracy. It's optimizing appointment scheduling, reducing wait times, and enhancing patient convenience. AI is also automating insurance claims processing, reducing errors and speeding up reimbursements.\\n\\n**The Promise of AI: A Healthier Future**\\n\\nThe potential benefits of AI in healthcare are vast:\\n\\n* **Improved Accuracy and Efficiency:** AI algorithms can analyze massive datasets, identifying patterns and insights that may escape human observation. This leads to more accurate diagnoses, personalized treatment plans, and efficient resource allocation.\\n\\n* **Early Disease Detection and Prevention:** AI can detect subtle anomalies in medical data, enabling early diagnosis of diseases before symptoms manifest. This proactive approach can significantly improve patient outcomes and reduce healthcare costs.\\n\\n* **Personalized and Targeted Treatment:** AI can analyze individual patient characteristics, medical history, and genetic profiles to tailor treatment plans for optimal effectiveness. This personalized approach can lead to better disease management and improved patient satisfaction.\\n\\n* **Reduced Costs and Increased Accessibility:** AI can automate tasks, streamline processes, and improve efficiency, ultimately reducing healthcare costs. It can also make healthcare more accessible to remote populations by providing virtual consultations and remote monitoring.\\n\\n**Navigating the Challenges: Ethical Considerations**\\n\\nWhile the potential of AI in healthcare is immense, it's crucial to address the associated challenges and ethical considerations:\\n\\n* **Data Privacy and Security:**  Protecting sensitive patient data from breaches and misuse is paramount. Robust security measures and strict data governance policies are essential.\\n\\n* **Bias and Fairness:** AI algorithms can inherit biases from the data they are trained on, potentially leading to disparities in healthcare access and outcomes. It's crucial to ensure that AI systems are trained on diverse and representative data sets to mitigate bias.\\n\\n* **Transparency and Explainability:** Understanding how AI algorithms make decisions is essential for building trust and accountability. Researchers and developers must strive for transparency in AI algorithms and develop methods to explain their reasoning.\\n\\n\\n* **Job Displacement:**  AI automation may lead to job displacement in certain healthcare roles. Retraining and upskilling programs are necessary to prepare the workforce for the changing landscape.\\n\\n**The Future of Healthcare: An AI-Powered Era**\\n\\nThe future of healthcare is inextricably linked to the advancement of AI. We can expect to see:\\n\\n* **AI-powered drug development and personalized medicine:**  AI will accelerate the discovery of new drugs and therapies, tailored to individual patients' genetic profiles.\\n\\n* **AI-assisted mental health care and chronic disease management:**  AI-powered chatbots and virtual assistants will provide support and guidance for patients with mental health conditions and chronic diseases.\\n\\n* **The role of AI in public health surveillance and outbreak prediction:**  AI will play a crucial role in monitoring disease outbreaks, predicting potential epidemics, and facilitating rapid response measures.\\n\\nAI has the potential to transform healthcare into a more precise, efficient, and accessible system. By embracing its possibilities while addressing the associated challenges ethically, we can usher in a new era of healthcare that prioritizes patient well-being and improves global health outcomes. \\n\\n\\n\"}\n"
     ]
    }
   ],
   "source": [
    "initial_state = {'title': \"Rise of AI in healthcare\"}\n",
    "\n",
    "final_state = workflow.invoke(initial_state)\n",
    "\n",
    "print(final_state)"
   ]
  },
  {
   "cell_type": "code",
   "execution_count": 18,
   "id": "5fbbaa64",
   "metadata": {},
   "outputs": [
    {
     "name": "stdout",
     "output_type": "stream",
     "text": [
      "##  Rise of AI in Healthcare: A Detailed Blog Outline\n",
      "\n",
      "**I. Introduction:**\n",
      "\n",
      "*   Hook: Start with a captivating statistic or anecdote about AI in healthcare's potential impact.\n",
      "*   Define AI and its relevance to healthcare.\n",
      "*   Briefly outline the benefits and challenges of AI in healthcare.\n",
      "*   Thesis statement: AI is rapidly transforming healthcare, offering promising solutions while raising ethical considerations that need careful attention.\n",
      "\n",
      "**II. Current Applications of AI in Healthcare:**\n",
      "\n",
      "*   **Diagnostics:**\n",
      "    *   Image Analysis: AI's role in detecting diseases like cancer, Alzheimer's, and diabetic retinopathy through medical imaging.\n",
      "    *   Symptom Checkers: AI-powered chatbots and virtual assistants assisting with initial symptom assessments and triage.\n",
      "    *   Predictive Analytics: AI algorithms identifying patients at risk for specific conditions based on medical history and data.\n",
      "*   **Treatment:**\n",
      "    *   Personalized Medicine: AI aiding in tailoring treatment plans based on individual patient characteristics and genetic profiles.\n",
      "    *   Drug Discovery: AI accelerating the process of identifying and developing new drugs and therapies.\n",
      "    *   Robotic Surgery: AI-assisted surgical robots improving precision and minimizing invasiveness.\n",
      "*   **Administrative Processes:**\n",
      "    *   Streamlining Patient Records: AI automating data entry, improving accuracy, and facilitating information sharing.\n",
      "    *   Appointment Scheduling: AI optimizing appointment scheduling, reducing wait times, and improving patient convenience.\n",
      "    *   Insurance Claims Processing: AI automating claims processing, reducing errors, and speeding up reimbursements.\n",
      "\n",
      "**III. Benefits of AI in Healthcare:**\n",
      "\n",
      "*   **Improved Accuracy and Efficiency:** AI algorithms can analyze vast amounts of data more accurately and efficiently than humans, leading to better diagnoses and treatment decisions.\n",
      "*   **Early Disease Detection and Prevention:** AI can identify subtle patterns and anomalies in medical data, enabling early detection of diseases and potentially preventing serious health complications.\n",
      "*   **Personalized and Targeted Treatment:** AI can tailor treatment plans to individual patients based on their unique characteristics, leading to more effective and personalized care.\n",
      "*   **Reduced Costs and Increased Accessibility:** AI can automate tasks, streamline processes, and improve efficiency, ultimately leading to reduced healthcare costs and increased accessibility to care.\n",
      "\n",
      "**IV. Challenges and Ethical Considerations:**\n",
      "\n",
      "*   **Data Privacy and Security:** Ensuring the privacy and security of sensitive patient data is paramount.\n",
      "*   **Bias and Fairness:** AI algorithms can inherit biases from the data they are trained on, potentially leading to disparities in healthcare access and outcomes.\n",
      "*   * **Transparency and Explainability:** Understanding how AI algorithms make decisions is crucial for building trust and accountability.\n",
      "*   **Job Displacement:** AI automation may lead to job displacement in certain healthcare roles.\n",
      "\n",
      "**V. Future of AI in Healthcare:**\n",
      "\n",
      "*   Explore emerging trends and advancements in AI for healthcare, such as:\n",
      "    *   AI-powered drug development and personalized medicine.\n",
      "    *   AI-assisted mental health care and chronic disease management.\n",
      "    *   The role of AI in public health surveillance and outbreak prediction.\n",
      "*   Discuss the potential impact of AI on the future of healthcare delivery.\n",
      "\n",
      "**VI. Conclusion:**\n",
      "\n",
      "*   Summarize the key points discussed in the blog post.\n",
      "*   Reiterate the transformative potential of AI in healthcare while emphasizing the need for responsible development and implementation.\n",
      "*   Offer a concluding thought or call to action for readers.\n",
      "\n",
      "\n",
      "**Additional Tips:**\n",
      "\n",
      "*   Use clear and concise language, avoiding technical jargon where possible.\n",
      "*   Support your claims with credible sources and data.\n",
      "*   Include visuals such as graphs, charts, and images to enhance reader engagement.\n",
      "*   Break up the text into smaller paragraphs and use headings and subheadings to improve readability.\n",
      "*   Proofread carefully for any errors in grammar or spelling.\n",
      "\n",
      "\n",
      "\n",
      "\n"
     ]
    }
   ],
   "source": [
    "print(final_state['outline'])"
   ]
  },
  {
   "cell_type": "code",
   "execution_count": 16,
   "id": "89216ef5",
   "metadata": {},
   "outputs": [
    {
     "name": "stdout",
     "output_type": "stream",
     "text": [
      "## The Rise of AI in Healthcare: A Revolution in Care\n",
      "\n",
      "Imagine a future where diseases are detected before symptoms even appear, where treatments are personalized to your unique genetic makeup, and where administrative tasks are handled effortlessly by intelligent machines. This isn't science fiction; it's the rapidly unfolding reality of artificial intelligence (AI) in healthcare. \n",
      "\n",
      "AI, the ability of computers to learn from data and perform tasks typically requiring human intelligence, is poised to revolutionize every aspect of healthcare delivery. From diagnostics to treatment, and even administrative processes, AI is offering promising solutions while simultaneously raising crucial ethical considerations.\n",
      "\n",
      "**AI in Action: Transforming Healthcare Today**\n",
      "\n",
      "AI is already making its mark across a spectrum of healthcare applications:\n",
      "\n",
      "* **Diagnostics:** AI algorithms are excelling at analyzing medical images, detecting subtle patterns indicative of diseases like cancer, Alzheimer's, and diabetic retinopathy. AI-powered symptom checkers are assisting patients with initial assessments and guiding them towards appropriate care.\n",
      "\n",
      "* **Treatment:**  AI is playing a pivotal role in personalized medicine by tailoring treatment plans to individual patient characteristics and genetic profiles. It's accelerating drug discovery by identifying promising candidates and simulating their effects. AI-assisted robotic surgery is enhancing precision and minimizing invasiveness, leading to faster recovery times and fewer complications.\n",
      "\n",
      "* **Administrative Processes:**  AI is streamlining patient records, automating data entry and improving accuracy. It's optimizing appointment scheduling, reducing wait times, and enhancing patient convenience. AI is also automating insurance claims processing, reducing errors and speeding up reimbursements.\n",
      "\n",
      "**The Promise of AI: A Healthier Future**\n",
      "\n",
      "The potential benefits of AI in healthcare are vast:\n",
      "\n",
      "* **Improved Accuracy and Efficiency:** AI algorithms can analyze massive datasets, identifying patterns and insights that may escape human observation. This leads to more accurate diagnoses, personalized treatment plans, and efficient resource allocation.\n",
      "\n",
      "* **Early Disease Detection and Prevention:** AI can detect subtle anomalies in medical data, enabling early diagnosis of diseases before symptoms manifest. This proactive approach can significantly improve patient outcomes and reduce healthcare costs.\n",
      "\n",
      "* **Personalized and Targeted Treatment:** AI can analyze individual patient characteristics, medical history, and genetic profiles to tailor treatment plans for optimal effectiveness. This personalized approach can lead to better disease management and improved patient satisfaction.\n",
      "\n",
      "* **Reduced Costs and Increased Accessibility:** AI can automate tasks, streamline processes, and improve efficiency, ultimately reducing healthcare costs. It can also make healthcare more accessible to remote populations by providing virtual consultations and remote monitoring.\n",
      "\n",
      "**Navigating the Challenges: Ethical Considerations**\n",
      "\n",
      "While the potential of AI in healthcare is immense, it's crucial to address the associated challenges and ethical considerations:\n",
      "\n",
      "* **Data Privacy and Security:**  Protecting sensitive patient data from breaches and misuse is paramount. Robust security measures and strict data governance policies are essential.\n",
      "\n",
      "* **Bias and Fairness:** AI algorithms can inherit biases from the data they are trained on, potentially leading to disparities in healthcare access and outcomes. It's crucial to ensure that AI systems are trained on diverse and representative data sets to mitigate bias.\n",
      "\n",
      "* **Transparency and Explainability:** Understanding how AI algorithms make decisions is essential for building trust and accountability. Researchers and developers must strive for transparency in AI algorithms and develop methods to explain their reasoning.\n",
      "\n",
      "\n",
      "* **Job Displacement:**  AI automation may lead to job displacement in certain healthcare roles. Retraining and upskilling programs are necessary to prepare the workforce for the changing landscape.\n",
      "\n",
      "**The Future of Healthcare: An AI-Powered Era**\n",
      "\n",
      "The future of healthcare is inextricably linked to the advancement of AI. We can expect to see:\n",
      "\n",
      "* **AI-powered drug development and personalized medicine:**  AI will accelerate the discovery of new drugs and therapies, tailored to individual patients' genetic profiles.\n",
      "\n",
      "* **AI-assisted mental health care and chronic disease management:**  AI-powered chatbots and virtual assistants will provide support and guidance for patients with mental health conditions and chronic diseases.\n",
      "\n",
      "* **The role of AI in public health surveillance and outbreak prediction:**  AI will play a crucial role in monitoring disease outbreaks, predicting potential epidemics, and facilitating rapid response measures.\n",
      "\n",
      "AI has the potential to transform healthcare into a more precise, efficient, and accessible system. By embracing its possibilities while addressing the associated challenges ethically, we can usher in a new era of healthcare that prioritizes patient well-being and improves global health outcomes. \n",
      "\n",
      "\n",
      "\n"
     ]
    }
   ],
   "source": [
    "print(final_state['content'])"
   ]
  },
  {
   "cell_type": "code",
   "execution_count": null,
   "id": "42f3ffbd",
   "metadata": {},
   "outputs": [],
   "source": []
  }
 ],
 "metadata": {
  "kernelspec": {
   "display_name": "myenv",
   "language": "python",
   "name": "python3"
  },
  "language_info": {
   "codemirror_mode": {
    "name": "ipython",
    "version": 3
   },
   "file_extension": ".py",
   "mimetype": "text/x-python",
   "name": "python",
   "nbconvert_exporter": "python",
   "pygments_lexer": "ipython3",
   "version": "3.10.0"
  }
 },
 "nbformat": 4,
 "nbformat_minor": 5
}
