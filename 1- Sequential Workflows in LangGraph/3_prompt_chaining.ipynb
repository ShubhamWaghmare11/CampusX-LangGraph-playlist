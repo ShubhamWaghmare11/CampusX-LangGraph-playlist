{
 "cells": [
  {
   "cell_type": "code",
   "execution_count": 8,
   "id": "f07d88b7",
   "metadata": {},
   "outputs": [],
   "source": [
    "from langgraph.graph import StateGraph, START, END\n",
    "from langchain_groq import ChatGroq\n",
    "from typing import TypedDict\n",
    "from dotenv import load_dotenv"
   ]
  },
  {
   "cell_type": "code",
   "execution_count": 3,
   "id": "cf585541",
   "metadata": {},
   "outputs": [
    {
     "data": {
      "text/plain": [
       "True"
      ]
     },
     "execution_count": 3,
     "metadata": {},
     "output_type": "execute_result"
    }
   ],
   "source": [
    "load_dotenv()"
   ]
  },
  {
   "cell_type": "code",
   "execution_count": 4,
   "id": "dc896822",
   "metadata": {},
   "outputs": [],
   "source": [
    "model = ChatGroq(model=\"Gemma2-9b-It\")"
   ]
  },
  {
   "cell_type": "code",
   "execution_count": 35,
   "id": "f45ac7ab",
   "metadata": {},
   "outputs": [],
   "source": [
    "class BlogState(TypedDict):\n",
    "    title: str\n",
    "    outline: str\n",
    "    content: str\n",
    "    rating: str"
   ]
  },
  {
   "cell_type": "code",
   "execution_count": 36,
   "id": "9fd662e5",
   "metadata": {},
   "outputs": [],
   "source": [
    "def create_outline(state: BlogState) -> BlogState:\n",
    "\n",
    "    # fetch title\n",
    "    title = state['title']\n",
    "    \n",
    "    # call llm generate outline\n",
    "    prompt = f\"Generate a detailed outline for a blog on the topic - {title}\"\n",
    "    outline = model.invoke(prompt).content\n",
    "    \n",
    "    # update state\n",
    "    state['outline'] = outline\n",
    "\n",
    "    return state\n",
    "\n",
    "\n",
    "def create_blog(state: BlogState) -> BlogState:\n",
    "\n",
    "    # fetch title and outline\n",
    "    title = state['title']\n",
    "    outline = state['outline']\n",
    "    \n",
    "    # call llm generate blog\n",
    "    prompt = f\"Write a detailed blog on the title - {title} \\n\\n using the following outline:\\n {outline}\"\n",
    "    content = model.invoke(prompt).content\n",
    "    \n",
    "    # update state\n",
    "    state['content'] = content\n",
    "\n",
    "    return state\n",
    "\n",
    "\n",
    "def rate_blog(state: BlogState) -> BlogState:\n",
    "    outline = state['outline']\n",
    "    blog = state['content']\n",
    "\n",
    "    prompt = f\"Based on this outline: {outline} \\n. Rate my blog out of 10: {blog} \\n\\n. Give the rating number only based on how much my Blog aligns with the outline\"\n",
    "    response = model.invoke(prompt).content\n",
    "\n",
    "    state['rating'] = response\n",
    "\n",
    "    return state    "
   ]
  },
  {
   "cell_type": "code",
   "execution_count": 37,
   "id": "9de09723",
   "metadata": {},
   "outputs": [],
   "source": [
    "graph = StateGraph(BlogState)\n",
    "\n",
    "# nodes\n",
    "graph.add_node(\"create_outline\",create_outline)\n",
    "graph.add_node(\"create_blog\",create_blog)\n",
    "graph.add_node(\"rate_blog\",rate_blog)\n",
    "\n",
    "\n",
    "# edges\n",
    "graph.add_edge(START,'create_outline')\n",
    "graph.add_edge('create_outline','create_blog')\n",
    "graph.add_edge('create_blog',\"rate_blog\")\n",
    "graph.add_edge(\"rate_blog\", END)\n",
    "\n",
    "\n",
    "#compile\n",
    "\n",
    "workflow = graph.compile()"
   ]
  },
  {
   "cell_type": "code",
   "execution_count": 46,
   "id": "4598ca30",
   "metadata": {},
   "outputs": [
    {
     "name": "stdout",
     "output_type": "stream",
     "text": [
      "{'title': 'Rise of AI in Computer Vision', 'outline': \"## Rise of AI in Computer Vision: A Detailed Blog Outline\\n\\n**I. Introduction**\\n\\n*  Hook: Start with a captivating example of AI's impact on computer vision (e.g., self-driving cars, medical imaging analysis).\\n*  Define computer vision: Briefly explain what computer vision is and its significance.\\n*  Introduction to AI: Touch upon the different types of AI and how they contribute to computer vision advancements.\\n*  Thesis statement: State the blog's main argument - AI is revolutionizing computer vision, leading to groundbreaking applications and transforming various industries.\\n\\n**II. Historical Context**\\n\\n*  Early days of computer vision: Briefly discuss the history of computer vision, highlighting key milestones and limitations.\\n*  The role of traditional methods: Explain how traditional computer vision techniques relied heavily on manual feature engineering and rule-based systems.\\n*  The AI revolution: Discuss the emergence of deep learning and its transformative impact on computer vision.\\n\\n**III. Key AI Techniques in Computer Vision**\\n\\n*  Convolutional Neural Networks (CNNs): Explain CNNs and their architecture, emphasizing their ability to learn hierarchical features from images.\\n*  Recurrent Neural Networks (RNNs): Briefly discuss RNNs and their application in processing sequential data, such as video analysis.\\n*  Generative Adversarial Networks (GANs): Explain GANs and their potential for generating realistic synthetic images.\\n*  Other relevant techniques:  Mention other important techniques like object detection algorithms (YOLO, Faster R-CNN), image segmentation, and image captioning.\\n\\n**IV. Applications of AI in Computer Vision**\\n\\n*  Healthcare: Discuss applications in medical imaging analysis, disease diagnosis, and personalized treatment.\\n*  Autonomous vehicles: Explain how AI powers self-driving cars, enabling them to perceive and navigate the environment.\\n*  Retail and e-commerce: Highlight applications in visual search, product recommendations, and inventory management.\\n*  Security and surveillance: Discuss the use of AI in facial recognition, object detection, and anomaly detection.\\n*  Manufacturing and robotics: Explain how AI enhances quality control, defect detection, and robot vision systems.\\n*  Other emerging applications: Mention other areas like agriculture, fashion, and entertainment.\\n\\n**V. Challenges and Ethical Considerations**\\n\\n*  Data bias: Discuss the potential for AI models to perpetuate existing biases in training data.\\n*  Privacy concerns: Address the ethical implications of using facial recognition and other surveillance technologies.\\n*  Job displacement:  Explore the potential impact of AI on jobs in computer vision-related fields.\\n*  Transparency and accountability: Discuss the need for explainable AI and responsible development practices.\\n\\n**VI. Future Trends**\\n\\n*  Edge computing: Explain how AI is moving towards edge devices, enabling real-time processing and reduced latency.\\n*  Explainable AI (XAI): Discuss the growing importance of understanding how AI models make decisions.\\n*  Increased accessibility: Highlight the democratization of AI through open-source tools and platforms.\\n*  New applications: Speculate on future applications of AI in computer vision, such as virtual and augmented reality.\\n\\n**VII. Conclusion**\\n\\n*  Summarize the key points discussed in the blog.\\n*  Reiterate the transformative impact of AI on computer vision.\\n*  Offer a final thought or call to action regarding the future of AI in this field.\\n\\n\\n\\nThis detailed outline provides a comprehensive structure for your blog post on the rise of AI in computer vision. You can adapt and expand on these points based on your target audience and desired length.\\n\", 'content': '## Rise of AI in Computer Vision: A Detailed Blog \\n\\n**I. Introduction**\\n\\nImagine a world where computers can \"see\" and understand images just like humans do.  This isn\\'t science fiction anymore; it\\'s the reality we\\'re rapidly approaching thanks to the transformative power of artificial intelligence (AI) in computer vision.  \\n\\nComputer vision is the field of AI that enables computers to interpret and analyze visual information from the real world.  It\\'s used in a wide range of applications, from self-driving cars to medical diagnosis, and its impact is already being felt across industries.  \\n\\nThis blog explores the exciting rise of AI in computer vision, delving into its history, key techniques, groundbreaking applications, and the ethical considerations that come with this powerful technology.\\n\\n**II. Historical Context**\\n\\nThe quest to give computers \"sight\" dates back decades. Early computer vision systems relied heavily on manual feature engineering, where programmers painstakingly defined rules and algorithms to detect specific features in images.  These methods were often limited in their accuracy and flexibility.\\n\\nThe real revolution came with the advent of deep learning, a subset of AI inspired by the structure and function of the human brain. Deep learning algorithms, particularly Convolutional Neural Networks (CNNs), have shown remarkable abilities to learn complex patterns and representations from vast amounts of visual data.\\n\\n**III. Key AI Techniques in Computer Vision**\\n\\n* **Convolutional Neural Networks (CNNs):** CNNs are specifically designed to process image data. Their layered architecture allows them to learn hierarchical features, starting from basic edges and shapes to more complex objects and scenes. \\n\\n* **Recurrent Neural Networks (RNNs):** RNNs excel at handling sequential data, making them ideal for tasks like video analysis and action recognition.\\n\\n* **Generative Adversarial Networks (GANs):** GANs consist of two competing neural networks that learn to generate realistic synthetic images. This has opened up exciting possibilities for image creation, manipulation, and data augmentation.\\n\\n* **Object Detection Algorithms (YOLO, Faster R-CNN):** These algorithms enable computers to identify and locate specific objects within images, paving the way for applications like autonomous driving and security systems.\\n\\n**IV. Applications of AI in Computer Vision**\\n\\nThe applications of AI in computer vision are vast and constantly expanding:\\n\\n* **Healthcare:** AI is revolutionizing medical imaging analysis, helping doctors detect diseases like cancer earlier and more accurately. \\n\\n* **Autonomous Vehicles:** Self-driving cars rely heavily on computer vision to perceive their surroundings, identify obstacles, and navigate safely.\\n\\n* **Retail and E-commerce:**  Visual search, personalized product recommendations, and automated inventory management are all powered by AI in computer vision.\\n\\n* **Security and Surveillance:** Facial recognition, object detection, and anomaly detection are used in security systems to enhance safety and prevent crime.\\n\\n* **Manufacturing and Robotics:** AI-powered vision systems enable robots to perform tasks like quality control, defect detection, and assembly with greater precision.\\n\\n **V. Challenges and Ethical Considerations**\\n\\nThe rapid progress in AI-powered computer vision also raises important challenges and ethical considerations:\\n\\n* **Data Bias:** AI models can learn and perpetuate biases present in the training data, leading to unfair or discriminatory outcomes.\\n\\n* **Privacy Concerns:**  Facial recognition and other surveillance technologies raise concerns about privacy and the potential for misuse.\\n\\n* **Job Displacement:**  AI automation may lead to job losses in certain sectors related to computer vision.\\n\\n* **Transparency and Accountability:**  The decision-making processes of complex AI models can be opaque, making it difficult to understand how they arrive at their outputs.  \\n\\n**VI. Future Trends**\\n\\nThe future of AI in computer vision is bright and full of exciting possibilities:\\n\\n* **Edge Computing:**  AI algorithms are increasingly being deployed on edge devices, enabling real-time processing and reduced reliance on cloud infrastructure.\\n\\n* **Explainable AI (XAI):**  There is a growing emphasis on developing AI models that are more transparent and understandable to humans.\\n\\n* **Increased Accessibility:** Open-source tools and platforms are making AI in computer vision more accessible to a wider range of developers and researchers.\\n\\n* **New Applications:**  We can expect to see AI-powered computer vision applications emerge in new and innovative fields, such as virtual and augmented reality, personalized education, and smart cities.\\n\\n\\n **VII. Conclusion**\\n\\nAI is revolutionizing computer vision, unlocking new possibilities and transforming industries. From healthcare to transportation, AI-powered vision systems are enhancing our lives in countless ways. \\n\\nHowever, it\\'s crucial to address the ethical challenges and ensure that this powerful technology is developed and deployed responsibly.  As AI continues to evolve, we can expect even more groundbreaking applications and a future where computers truly \"see\" the world around us in a way that was once only imaginable. \\n', 'rating': '9 \\n'}\n"
     ]
    }
   ],
   "source": [
    "initial_state = {'title': \"Rise of AI in Computer Vision\"}\n",
    "\n",
    "final_state = workflow.invoke(initial_state)\n",
    "\n",
    "print(final_state)"
   ]
  },
  {
   "cell_type": "code",
   "execution_count": 47,
   "id": "5fbbaa64",
   "metadata": {},
   "outputs": [
    {
     "name": "stdout",
     "output_type": "stream",
     "text": [
      "## Rise of AI in Computer Vision: A Detailed Blog Outline\n",
      "\n",
      "**I. Introduction**\n",
      "\n",
      "*  Hook: Start with a captivating example of AI's impact on computer vision (e.g., self-driving cars, medical imaging analysis).\n",
      "*  Define computer vision: Briefly explain what computer vision is and its significance.\n",
      "*  Introduction to AI: Touch upon the different types of AI and how they contribute to computer vision advancements.\n",
      "*  Thesis statement: State the blog's main argument - AI is revolutionizing computer vision, leading to groundbreaking applications and transforming various industries.\n",
      "\n",
      "**II. Historical Context**\n",
      "\n",
      "*  Early days of computer vision: Briefly discuss the history of computer vision, highlighting key milestones and limitations.\n",
      "*  The role of traditional methods: Explain how traditional computer vision techniques relied heavily on manual feature engineering and rule-based systems.\n",
      "*  The AI revolution: Discuss the emergence of deep learning and its transformative impact on computer vision.\n",
      "\n",
      "**III. Key AI Techniques in Computer Vision**\n",
      "\n",
      "*  Convolutional Neural Networks (CNNs): Explain CNNs and their architecture, emphasizing their ability to learn hierarchical features from images.\n",
      "*  Recurrent Neural Networks (RNNs): Briefly discuss RNNs and their application in processing sequential data, such as video analysis.\n",
      "*  Generative Adversarial Networks (GANs): Explain GANs and their potential for generating realistic synthetic images.\n",
      "*  Other relevant techniques:  Mention other important techniques like object detection algorithms (YOLO, Faster R-CNN), image segmentation, and image captioning.\n",
      "\n",
      "**IV. Applications of AI in Computer Vision**\n",
      "\n",
      "*  Healthcare: Discuss applications in medical imaging analysis, disease diagnosis, and personalized treatment.\n",
      "*  Autonomous vehicles: Explain how AI powers self-driving cars, enabling them to perceive and navigate the environment.\n",
      "*  Retail and e-commerce: Highlight applications in visual search, product recommendations, and inventory management.\n",
      "*  Security and surveillance: Discuss the use of AI in facial recognition, object detection, and anomaly detection.\n",
      "*  Manufacturing and robotics: Explain how AI enhances quality control, defect detection, and robot vision systems.\n",
      "*  Other emerging applications: Mention other areas like agriculture, fashion, and entertainment.\n",
      "\n",
      "**V. Challenges and Ethical Considerations**\n",
      "\n",
      "*  Data bias: Discuss the potential for AI models to perpetuate existing biases in training data.\n",
      "*  Privacy concerns: Address the ethical implications of using facial recognition and other surveillance technologies.\n",
      "*  Job displacement:  Explore the potential impact of AI on jobs in computer vision-related fields.\n",
      "*  Transparency and accountability: Discuss the need for explainable AI and responsible development practices.\n",
      "\n",
      "**VI. Future Trends**\n",
      "\n",
      "*  Edge computing: Explain how AI is moving towards edge devices, enabling real-time processing and reduced latency.\n",
      "*  Explainable AI (XAI): Discuss the growing importance of understanding how AI models make decisions.\n",
      "*  Increased accessibility: Highlight the democratization of AI through open-source tools and platforms.\n",
      "*  New applications: Speculate on future applications of AI in computer vision, such as virtual and augmented reality.\n",
      "\n",
      "**VII. Conclusion**\n",
      "\n",
      "*  Summarize the key points discussed in the blog.\n",
      "*  Reiterate the transformative impact of AI on computer vision.\n",
      "*  Offer a final thought or call to action regarding the future of AI in this field.\n",
      "\n",
      "\n",
      "\n",
      "This detailed outline provides a comprehensive structure for your blog post on the rise of AI in computer vision. You can adapt and expand on these points based on your target audience and desired length.\n",
      "\n"
     ]
    }
   ],
   "source": [
    "print(final_state['outline'])"
   ]
  },
  {
   "cell_type": "code",
   "execution_count": 48,
   "id": "89216ef5",
   "metadata": {},
   "outputs": [
    {
     "name": "stdout",
     "output_type": "stream",
     "text": [
      "## Rise of AI in Computer Vision: A Detailed Blog \n",
      "\n",
      "**I. Introduction**\n",
      "\n",
      "Imagine a world where computers can \"see\" and understand images just like humans do.  This isn't science fiction anymore; it's the reality we're rapidly approaching thanks to the transformative power of artificial intelligence (AI) in computer vision.  \n",
      "\n",
      "Computer vision is the field of AI that enables computers to interpret and analyze visual information from the real world.  It's used in a wide range of applications, from self-driving cars to medical diagnosis, and its impact is already being felt across industries.  \n",
      "\n",
      "This blog explores the exciting rise of AI in computer vision, delving into its history, key techniques, groundbreaking applications, and the ethical considerations that come with this powerful technology.\n",
      "\n",
      "**II. Historical Context**\n",
      "\n",
      "The quest to give computers \"sight\" dates back decades. Early computer vision systems relied heavily on manual feature engineering, where programmers painstakingly defined rules and algorithms to detect specific features in images.  These methods were often limited in their accuracy and flexibility.\n",
      "\n",
      "The real revolution came with the advent of deep learning, a subset of AI inspired by the structure and function of the human brain. Deep learning algorithms, particularly Convolutional Neural Networks (CNNs), have shown remarkable abilities to learn complex patterns and representations from vast amounts of visual data.\n",
      "\n",
      "**III. Key AI Techniques in Computer Vision**\n",
      "\n",
      "* **Convolutional Neural Networks (CNNs):** CNNs are specifically designed to process image data. Their layered architecture allows them to learn hierarchical features, starting from basic edges and shapes to more complex objects and scenes. \n",
      "\n",
      "* **Recurrent Neural Networks (RNNs):** RNNs excel at handling sequential data, making them ideal for tasks like video analysis and action recognition.\n",
      "\n",
      "* **Generative Adversarial Networks (GANs):** GANs consist of two competing neural networks that learn to generate realistic synthetic images. This has opened up exciting possibilities for image creation, manipulation, and data augmentation.\n",
      "\n",
      "* **Object Detection Algorithms (YOLO, Faster R-CNN):** These algorithms enable computers to identify and locate specific objects within images, paving the way for applications like autonomous driving and security systems.\n",
      "\n",
      "**IV. Applications of AI in Computer Vision**\n",
      "\n",
      "The applications of AI in computer vision are vast and constantly expanding:\n",
      "\n",
      "* **Healthcare:** AI is revolutionizing medical imaging analysis, helping doctors detect diseases like cancer earlier and more accurately. \n",
      "\n",
      "* **Autonomous Vehicles:** Self-driving cars rely heavily on computer vision to perceive their surroundings, identify obstacles, and navigate safely.\n",
      "\n",
      "* **Retail and E-commerce:**  Visual search, personalized product recommendations, and automated inventory management are all powered by AI in computer vision.\n",
      "\n",
      "* **Security and Surveillance:** Facial recognition, object detection, and anomaly detection are used in security systems to enhance safety and prevent crime.\n",
      "\n",
      "* **Manufacturing and Robotics:** AI-powered vision systems enable robots to perform tasks like quality control, defect detection, and assembly with greater precision.\n",
      "\n",
      " **V. Challenges and Ethical Considerations**\n",
      "\n",
      "The rapid progress in AI-powered computer vision also raises important challenges and ethical considerations:\n",
      "\n",
      "* **Data Bias:** AI models can learn and perpetuate biases present in the training data, leading to unfair or discriminatory outcomes.\n",
      "\n",
      "* **Privacy Concerns:**  Facial recognition and other surveillance technologies raise concerns about privacy and the potential for misuse.\n",
      "\n",
      "* **Job Displacement:**  AI automation may lead to job losses in certain sectors related to computer vision.\n",
      "\n",
      "* **Transparency and Accountability:**  The decision-making processes of complex AI models can be opaque, making it difficult to understand how they arrive at their outputs.  \n",
      "\n",
      "**VI. Future Trends**\n",
      "\n",
      "The future of AI in computer vision is bright and full of exciting possibilities:\n",
      "\n",
      "* **Edge Computing:**  AI algorithms are increasingly being deployed on edge devices, enabling real-time processing and reduced reliance on cloud infrastructure.\n",
      "\n",
      "* **Explainable AI (XAI):**  There is a growing emphasis on developing AI models that are more transparent and understandable to humans.\n",
      "\n",
      "* **Increased Accessibility:** Open-source tools and platforms are making AI in computer vision more accessible to a wider range of developers and researchers.\n",
      "\n",
      "* **New Applications:**  We can expect to see AI-powered computer vision applications emerge in new and innovative fields, such as virtual and augmented reality, personalized education, and smart cities.\n",
      "\n",
      "\n",
      " **VII. Conclusion**\n",
      "\n",
      "AI is revolutionizing computer vision, unlocking new possibilities and transforming industries. From healthcare to transportation, AI-powered vision systems are enhancing our lives in countless ways. \n",
      "\n",
      "However, it's crucial to address the ethical challenges and ensure that this powerful technology is developed and deployed responsibly.  As AI continues to evolve, we can expect even more groundbreaking applications and a future where computers truly \"see\" the world around us in a way that was once only imaginable. \n",
      "\n"
     ]
    }
   ],
   "source": [
    "print(final_state['content'])"
   ]
  },
  {
   "cell_type": "code",
   "execution_count": 49,
   "id": "42f3ffbd",
   "metadata": {},
   "outputs": [
    {
     "name": "stdout",
     "output_type": "stream",
     "text": [
      "9 \n",
      "\n"
     ]
    }
   ],
   "source": [
    "print(final_state['rating'])"
   ]
  },
  {
   "cell_type": "code",
   "execution_count": null,
   "id": "ffe343ae",
   "metadata": {},
   "outputs": [],
   "source": []
  }
 ],
 "metadata": {
  "kernelspec": {
   "display_name": "myenv",
   "language": "python",
   "name": "python3"
  },
  "language_info": {
   "codemirror_mode": {
    "name": "ipython",
    "version": 3
   },
   "file_extension": ".py",
   "mimetype": "text/x-python",
   "name": "python",
   "nbconvert_exporter": "python",
   "pygments_lexer": "ipython3",
   "version": "3.10.0"
  }
 },
 "nbformat": 4,
 "nbformat_minor": 5
}
